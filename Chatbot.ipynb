{
  "nbformat": 4,
  "nbformat_minor": 0,
  "metadata": {
    "colab": {
      "name": "Chatbot",
      "provenance": [],
      "toc_visible": true
    },
    "kernelspec": {
      "name": "python3",
      "display_name": "Python 3"
    }
  },
  "cells": [
    {
      "cell_type": "markdown",
      "metadata": {
        "id": "6j7Qg23QPc6e",
        "colab_type": "text"
      },
      "source": [
        "# Semantic Similarity Chatbot\n",
        "Credits + source code: https://colab.research.google.com/drive/1XlmtcyMdPRQC6bw2HQYb3UPtVGKqUJ0a#scrollTo=8R0T0ei52FXS"
      ]
    },
    {
      "cell_type": "code",
      "metadata": {
        "id": "mVqNC1Yx9I6_",
        "colab_type": "code",
        "outputId": "dccbeb0a-2ca0-4510-efc9-56c05724e202",
        "colab": {
          "base_uri": "https://localhost:8080/",
          "height": 1000
        }
      },
      "source": [
        "# Install\n",
        "!pip install spacy; # Nlp for tokenizing text and word vector database\n",
        "!python -m spacy download en_core_web_lg; # For word vectors\n",
        "!pip install simpleneighbors; # Find nearest neighbors in database\n",
        "!pip install https://github.com/aparrish/semanticsimilaritychatbot/archive/master.zip; # Make chatbot based on semantic similarity\n",
        "!pip install IPython; # Make code interactive\n",
        "!pip install flask # Make code interactive alternative  "
      ],
      "execution_count": 1,
      "outputs": [
        {
          "output_type": "stream",
          "text": [
            "Requirement already satisfied: spacy in /usr/local/lib/python3.6/dist-packages (2.2.4)\n",
            "Requirement already satisfied: cymem<2.1.0,>=2.0.2 in /usr/local/lib/python3.6/dist-packages (from spacy) (2.0.3)\n",
            "Requirement already satisfied: setuptools in /usr/local/lib/python3.6/dist-packages (from spacy) (46.3.0)\n",
            "Requirement already satisfied: numpy>=1.15.0 in /usr/local/lib/python3.6/dist-packages (from spacy) (1.18.4)\n",
            "Requirement already satisfied: plac<1.2.0,>=0.9.6 in /usr/local/lib/python3.6/dist-packages (from spacy) (1.1.3)\n",
            "Requirement already satisfied: murmurhash<1.1.0,>=0.28.0 in /usr/local/lib/python3.6/dist-packages (from spacy) (1.0.2)\n",
            "Requirement already satisfied: preshed<3.1.0,>=3.0.2 in /usr/local/lib/python3.6/dist-packages (from spacy) (3.0.2)\n",
            "Requirement already satisfied: srsly<1.1.0,>=1.0.2 in /usr/local/lib/python3.6/dist-packages (from spacy) (1.0.2)\n",
            "Requirement already satisfied: thinc==7.4.0 in /usr/local/lib/python3.6/dist-packages (from spacy) (7.4.0)\n",
            "Requirement already satisfied: requests<3.0.0,>=2.13.0 in /usr/local/lib/python3.6/dist-packages (from spacy) (2.23.0)\n",
            "Requirement already satisfied: wasabi<1.1.0,>=0.4.0 in /usr/local/lib/python3.6/dist-packages (from spacy) (0.6.0)\n",
            "Requirement already satisfied: blis<0.5.0,>=0.4.0 in /usr/local/lib/python3.6/dist-packages (from spacy) (0.4.1)\n",
            "Requirement already satisfied: catalogue<1.1.0,>=0.0.7 in /usr/local/lib/python3.6/dist-packages (from spacy) (1.0.0)\n",
            "Requirement already satisfied: tqdm<5.0.0,>=4.38.0 in /usr/local/lib/python3.6/dist-packages (from spacy) (4.41.1)\n",
            "Requirement already satisfied: idna<3,>=2.5 in /usr/local/lib/python3.6/dist-packages (from requests<3.0.0,>=2.13.0->spacy) (2.9)\n",
            "Requirement already satisfied: chardet<4,>=3.0.2 in /usr/local/lib/python3.6/dist-packages (from requests<3.0.0,>=2.13.0->spacy) (3.0.4)\n",
            "Requirement already satisfied: urllib3!=1.25.0,!=1.25.1,<1.26,>=1.21.1 in /usr/local/lib/python3.6/dist-packages (from requests<3.0.0,>=2.13.0->spacy) (1.24.3)\n",
            "Requirement already satisfied: certifi>=2017.4.17 in /usr/local/lib/python3.6/dist-packages (from requests<3.0.0,>=2.13.0->spacy) (2020.4.5.1)\n",
            "Requirement already satisfied: importlib-metadata>=0.20; python_version < \"3.8\" in /usr/local/lib/python3.6/dist-packages (from catalogue<1.1.0,>=0.0.7->spacy) (1.6.0)\n",
            "Requirement already satisfied: zipp>=0.5 in /usr/local/lib/python3.6/dist-packages (from importlib-metadata>=0.20; python_version < \"3.8\"->catalogue<1.1.0,>=0.0.7->spacy) (3.1.0)\n",
            "Collecting en_core_web_lg==2.2.5\n",
            "\u001b[?25l  Downloading https://github.com/explosion/spacy-models/releases/download/en_core_web_lg-2.2.5/en_core_web_lg-2.2.5.tar.gz (827.9MB)\n",
            "\u001b[K     |████████████████████████████████| 827.9MB 1.2MB/s \n",
            "\u001b[?25hRequirement already satisfied: spacy>=2.2.2 in /usr/local/lib/python3.6/dist-packages (from en_core_web_lg==2.2.5) (2.2.4)\n",
            "Requirement already satisfied: blis<0.5.0,>=0.4.0 in /usr/local/lib/python3.6/dist-packages (from spacy>=2.2.2->en_core_web_lg==2.2.5) (0.4.1)\n",
            "Requirement already satisfied: catalogue<1.1.0,>=0.0.7 in /usr/local/lib/python3.6/dist-packages (from spacy>=2.2.2->en_core_web_lg==2.2.5) (1.0.0)\n",
            "Requirement already satisfied: cymem<2.1.0,>=2.0.2 in /usr/local/lib/python3.6/dist-packages (from spacy>=2.2.2->en_core_web_lg==2.2.5) (2.0.3)\n",
            "Requirement already satisfied: srsly<1.1.0,>=1.0.2 in /usr/local/lib/python3.6/dist-packages (from spacy>=2.2.2->en_core_web_lg==2.2.5) (1.0.2)\n",
            "Requirement already satisfied: requests<3.0.0,>=2.13.0 in /usr/local/lib/python3.6/dist-packages (from spacy>=2.2.2->en_core_web_lg==2.2.5) (2.23.0)\n",
            "Requirement already satisfied: plac<1.2.0,>=0.9.6 in /usr/local/lib/python3.6/dist-packages (from spacy>=2.2.2->en_core_web_lg==2.2.5) (1.1.3)\n",
            "Requirement already satisfied: tqdm<5.0.0,>=4.38.0 in /usr/local/lib/python3.6/dist-packages (from spacy>=2.2.2->en_core_web_lg==2.2.5) (4.41.1)\n",
            "Requirement already satisfied: setuptools in /usr/local/lib/python3.6/dist-packages (from spacy>=2.2.2->en_core_web_lg==2.2.5) (46.3.0)\n",
            "Requirement already satisfied: numpy>=1.15.0 in /usr/local/lib/python3.6/dist-packages (from spacy>=2.2.2->en_core_web_lg==2.2.5) (1.18.4)\n",
            "Requirement already satisfied: murmurhash<1.1.0,>=0.28.0 in /usr/local/lib/python3.6/dist-packages (from spacy>=2.2.2->en_core_web_lg==2.2.5) (1.0.2)\n",
            "Requirement already satisfied: preshed<3.1.0,>=3.0.2 in /usr/local/lib/python3.6/dist-packages (from spacy>=2.2.2->en_core_web_lg==2.2.5) (3.0.2)\n",
            "Requirement already satisfied: wasabi<1.1.0,>=0.4.0 in /usr/local/lib/python3.6/dist-packages (from spacy>=2.2.2->en_core_web_lg==2.2.5) (0.6.0)\n",
            "Requirement already satisfied: thinc==7.4.0 in /usr/local/lib/python3.6/dist-packages (from spacy>=2.2.2->en_core_web_lg==2.2.5) (7.4.0)\n",
            "Requirement already satisfied: importlib-metadata>=0.20; python_version < \"3.8\" in /usr/local/lib/python3.6/dist-packages (from catalogue<1.1.0,>=0.0.7->spacy>=2.2.2->en_core_web_lg==2.2.5) (1.6.0)\n",
            "Requirement already satisfied: urllib3!=1.25.0,!=1.25.1,<1.26,>=1.21.1 in /usr/local/lib/python3.6/dist-packages (from requests<3.0.0,>=2.13.0->spacy>=2.2.2->en_core_web_lg==2.2.5) (1.24.3)\n",
            "Requirement already satisfied: certifi>=2017.4.17 in /usr/local/lib/python3.6/dist-packages (from requests<3.0.0,>=2.13.0->spacy>=2.2.2->en_core_web_lg==2.2.5) (2020.4.5.1)\n",
            "Requirement already satisfied: idna<3,>=2.5 in /usr/local/lib/python3.6/dist-packages (from requests<3.0.0,>=2.13.0->spacy>=2.2.2->en_core_web_lg==2.2.5) (2.9)\n",
            "Requirement already satisfied: chardet<4,>=3.0.2 in /usr/local/lib/python3.6/dist-packages (from requests<3.0.0,>=2.13.0->spacy>=2.2.2->en_core_web_lg==2.2.5) (3.0.4)\n",
            "Requirement already satisfied: zipp>=0.5 in /usr/local/lib/python3.6/dist-packages (from importlib-metadata>=0.20; python_version < \"3.8\"->catalogue<1.1.0,>=0.0.7->spacy>=2.2.2->en_core_web_lg==2.2.5) (3.1.0)\n",
            "Building wheels for collected packages: en-core-web-lg\n",
            "  Building wheel for en-core-web-lg (setup.py) ... \u001b[?25l\u001b[?25hdone\n",
            "  Created wheel for en-core-web-lg: filename=en_core_web_lg-2.2.5-cp36-none-any.whl size=829180944 sha256=f1ff20ded6c7e4afd887983cf6364f391b5fe73dde118414744a8ca1b8b363cf\n",
            "  Stored in directory: /tmp/pip-ephem-wheel-cache-1ci7nm2y/wheels/2a/c1/a6/fc7a877b1efca9bc6a089d6f506f16d3868408f9ff89f8dbfc\n",
            "Successfully built en-core-web-lg\n",
            "Installing collected packages: en-core-web-lg\n",
            "Successfully installed en-core-web-lg-2.2.5\n",
            "\u001b[38;5;2m✔ Download and installation successful\u001b[0m\n",
            "You can now load the model via spacy.load('en_core_web_lg')\n",
            "Collecting simpleneighbors\n",
            "  Downloading https://files.pythonhosted.org/packages/f9/10/9092e15d9aa4a9e5a263416121f124e565766767e7866e11d7074ec50df5/simpleneighbors-0.1.0-py2.py3-none-any.whl\n",
            "Installing collected packages: simpleneighbors\n",
            "Successfully installed simpleneighbors-0.1.0\n",
            "Collecting https://github.com/aparrish/semanticsimilaritychatbot/archive/master.zip\n",
            "\u001b[?25l  Downloading https://github.com/aparrish/semanticsimilaritychatbot/archive/master.zip\n",
            "\u001b[K     | 30kB 34.9MB/s\n",
            "\u001b[?25hRequirement already satisfied: simpleneighbors in /usr/local/lib/python3.6/dist-packages (from semanticsimilaritychatbot==0.0.1) (0.1.0)\n",
            "Requirement already satisfied: spacy in /usr/local/lib/python3.6/dist-packages (from semanticsimilaritychatbot==0.0.1) (2.2.4)\n",
            "Requirement already satisfied: numpy in /usr/local/lib/python3.6/dist-packages (from semanticsimilaritychatbot==0.0.1) (1.18.4)\n",
            "Requirement already satisfied: cymem<2.1.0,>=2.0.2 in /usr/local/lib/python3.6/dist-packages (from spacy->semanticsimilaritychatbot==0.0.1) (2.0.3)\n",
            "Requirement already satisfied: setuptools in /usr/local/lib/python3.6/dist-packages (from spacy->semanticsimilaritychatbot==0.0.1) (46.3.0)\n",
            "Requirement already satisfied: srsly<1.1.0,>=1.0.2 in /usr/local/lib/python3.6/dist-packages (from spacy->semanticsimilaritychatbot==0.0.1) (1.0.2)\n",
            "Requirement already satisfied: wasabi<1.1.0,>=0.4.0 in /usr/local/lib/python3.6/dist-packages (from spacy->semanticsimilaritychatbot==0.0.1) (0.6.0)\n",
            "Requirement already satisfied: requests<3.0.0,>=2.13.0 in /usr/local/lib/python3.6/dist-packages (from spacy->semanticsimilaritychatbot==0.0.1) (2.23.0)\n",
            "Requirement already satisfied: thinc==7.4.0 in /usr/local/lib/python3.6/dist-packages (from spacy->semanticsimilaritychatbot==0.0.1) (7.4.0)\n",
            "Requirement already satisfied: catalogue<1.1.0,>=0.0.7 in /usr/local/lib/python3.6/dist-packages (from spacy->semanticsimilaritychatbot==0.0.1) (1.0.0)\n",
            "Requirement already satisfied: preshed<3.1.0,>=3.0.2 in /usr/local/lib/python3.6/dist-packages (from spacy->semanticsimilaritychatbot==0.0.1) (3.0.2)\n",
            "Requirement already satisfied: blis<0.5.0,>=0.4.0 in /usr/local/lib/python3.6/dist-packages (from spacy->semanticsimilaritychatbot==0.0.1) (0.4.1)\n",
            "Requirement already satisfied: tqdm<5.0.0,>=4.38.0 in /usr/local/lib/python3.6/dist-packages (from spacy->semanticsimilaritychatbot==0.0.1) (4.41.1)\n",
            "Requirement already satisfied: plac<1.2.0,>=0.9.6 in /usr/local/lib/python3.6/dist-packages (from spacy->semanticsimilaritychatbot==0.0.1) (1.1.3)\n",
            "Requirement already satisfied: murmurhash<1.1.0,>=0.28.0 in /usr/local/lib/python3.6/dist-packages (from spacy->semanticsimilaritychatbot==0.0.1) (1.0.2)\n",
            "Requirement already satisfied: urllib3!=1.25.0,!=1.25.1,<1.26,>=1.21.1 in /usr/local/lib/python3.6/dist-packages (from requests<3.0.0,>=2.13.0->spacy->semanticsimilaritychatbot==0.0.1) (1.24.3)\n",
            "Requirement already satisfied: idna<3,>=2.5 in /usr/local/lib/python3.6/dist-packages (from requests<3.0.0,>=2.13.0->spacy->semanticsimilaritychatbot==0.0.1) (2.9)\n",
            "Requirement already satisfied: chardet<4,>=3.0.2 in /usr/local/lib/python3.6/dist-packages (from requests<3.0.0,>=2.13.0->spacy->semanticsimilaritychatbot==0.0.1) (3.0.4)\n",
            "Requirement already satisfied: certifi>=2017.4.17 in /usr/local/lib/python3.6/dist-packages (from requests<3.0.0,>=2.13.0->spacy->semanticsimilaritychatbot==0.0.1) (2020.4.5.1)\n",
            "Requirement already satisfied: importlib-metadata>=0.20; python_version < \"3.8\" in /usr/local/lib/python3.6/dist-packages (from catalogue<1.1.0,>=0.0.7->spacy->semanticsimilaritychatbot==0.0.1) (1.6.0)\n",
            "Requirement already satisfied: zipp>=0.5 in /usr/local/lib/python3.6/dist-packages (from importlib-metadata>=0.20; python_version < \"3.8\"->catalogue<1.1.0,>=0.0.7->spacy->semanticsimilaritychatbot==0.0.1) (3.1.0)\n",
            "Building wheels for collected packages: semanticsimilaritychatbot\n",
            "  Building wheel for semanticsimilaritychatbot (setup.py) ... \u001b[?25l\u001b[?25hdone\n",
            "  Created wheel for semanticsimilaritychatbot: filename=semanticsimilaritychatbot-0.0.1-cp36-none-any.whl size=4844 sha256=361b5c6ec5ba9074a70efb08cee12fa6ae893fd61a758c49bfb1822b4f217176\n",
            "  Stored in directory: /tmp/pip-ephem-wheel-cache-3antljmr/wheels/f7/af/8e/8a8fbef31bfbfc3b935425efa03db03825795d85f4e23f8255\n",
            "Successfully built semanticsimilaritychatbot\n",
            "Installing collected packages: semanticsimilaritychatbot\n",
            "Successfully installed semanticsimilaritychatbot-0.0.1\n",
            "Requirement already satisfied: IPython in /usr/local/lib/python3.6/dist-packages (5.5.0)\n",
            "Requirement already satisfied: decorator in /usr/local/lib/python3.6/dist-packages (from IPython) (4.4.2)\n",
            "Requirement already satisfied: simplegeneric>0.8 in /usr/local/lib/python3.6/dist-packages (from IPython) (0.8.1)\n",
            "Requirement already satisfied: pexpect; sys_platform != \"win32\" in /usr/local/lib/python3.6/dist-packages (from IPython) (4.8.0)\n",
            "Requirement already satisfied: pygments in /usr/local/lib/python3.6/dist-packages (from IPython) (2.1.3)\n",
            "Requirement already satisfied: pickleshare in /usr/local/lib/python3.6/dist-packages (from IPython) (0.7.5)\n",
            "Requirement already satisfied: traitlets>=4.2 in /usr/local/lib/python3.6/dist-packages (from IPython) (4.3.3)\n",
            "Requirement already satisfied: setuptools>=18.5 in /usr/local/lib/python3.6/dist-packages (from IPython) (46.3.0)\n",
            "Requirement already satisfied: prompt-toolkit<2.0.0,>=1.0.4 in /usr/local/lib/python3.6/dist-packages (from IPython) (1.0.18)\n",
            "Requirement already satisfied: ptyprocess>=0.5 in /usr/local/lib/python3.6/dist-packages (from pexpect; sys_platform != \"win32\"->IPython) (0.6.0)\n",
            "Requirement already satisfied: six in /usr/local/lib/python3.6/dist-packages (from traitlets>=4.2->IPython) (1.12.0)\n",
            "Requirement already satisfied: ipython-genutils in /usr/local/lib/python3.6/dist-packages (from traitlets>=4.2->IPython) (0.2.0)\n",
            "Requirement already satisfied: wcwidth in /usr/local/lib/python3.6/dist-packages (from prompt-toolkit<2.0.0,>=1.0.4->IPython) (0.1.9)\n",
            "Requirement already satisfied: flask in /usr/local/lib/python3.6/dist-packages (1.1.2)\n",
            "Requirement already satisfied: click>=5.1 in /usr/local/lib/python3.6/dist-packages (from flask) (7.1.2)\n",
            "Requirement already satisfied: Werkzeug>=0.15 in /usr/local/lib/python3.6/dist-packages (from flask) (1.0.1)\n",
            "Requirement already satisfied: itsdangerous>=0.24 in /usr/local/lib/python3.6/dist-packages (from flask) (1.1.0)\n",
            "Requirement already satisfied: Jinja2>=2.10.1 in /usr/local/lib/python3.6/dist-packages (from flask) (2.11.2)\n",
            "Requirement already satisfied: MarkupSafe>=0.23 in /usr/local/lib/python3.6/dist-packages (from Jinja2>=2.10.1->flask) (1.1.1)\n"
          ],
          "name": "stdout"
        }
      ]
    },
    {
      "cell_type": "code",
      "metadata": {
        "id": "gpViHLcCHtXW",
        "colab_type": "code",
        "colab": {}
      },
      "source": [
        "# Imports\n",
        "import spacy; # Nlp for tokenizing text and word vector database\n",
        "import en_core_web_lg; # For word vectors\n",
        "from simpleneighbors import SimpleNeighbors; # Find nearest neighbors in database\n",
        "from semanticsimilaritychatbot import SemanticSimilarityChatbot; # Make chatbot based on semantic similarity\n",
        "from google.colab import files, output; # Import Colab files\n",
        "import IPython # Make code interactive\n",
        "from flask import Flask, request, jsonify # Make code interactive alternative\n",
        "import random;\n",
        "import json;\n",
        "import numpy as np;\n",
        "\n",
        "# Import model\n",
        "nlp_model = en_core_web_lg.load();\n",
        "\n",
        "# Test word vector\n",
        "# nlp_model.vocab[\"cheese\"].vector;"
      ],
      "execution_count": 0,
      "outputs": []
    },
    {
      "cell_type": "markdown",
      "metadata": {
        "id": "3fi1jdFiBdNl",
        "colab_type": "text"
      },
      "source": [
        "## Movie Dialog Database"
      ]
    },
    {
      "cell_type": "code",
      "metadata": {
        "id": "21BOSYe35GZl",
        "colab_type": "code",
        "outputId": "2807e13b-77e9-4075-8095-f1e41b0783ee",
        "colab": {
          "base_uri": "https://localhost:8080/",
          "height": 319
        }
      },
      "source": [
        "# Download and unzip Cornell Movie Dialogs\n",
        "!curl -L -O http://www.cs.cornell.edu/~cristian/data/cornell_movie_dialogs_corpus.zip;\n",
        "!unzip cornell_movie_dialogs_corpus.zip;"
      ],
      "execution_count": 3,
      "outputs": [
        {
          "output_type": "stream",
          "text": [
            "  % Total    % Received % Xferd  Average Speed   Time    Time     Time  Current\n",
            "                                 Dload  Upload   Total   Spent    Left  Speed\n",
            "100 9684k  100 9684k    0     0  2104k      0  0:00:04  0:00:04 --:--:-- 2104k\n",
            "Archive:  cornell_movie_dialogs_corpus.zip\n",
            "   creating: cornell movie-dialogs corpus/\n",
            "  inflating: cornell movie-dialogs corpus/.DS_Store  \n",
            "   creating: __MACOSX/\n",
            "   creating: __MACOSX/cornell movie-dialogs corpus/\n",
            "  inflating: __MACOSX/cornell movie-dialogs corpus/._.DS_Store  \n",
            "  inflating: cornell movie-dialogs corpus/chameleons.pdf  \n",
            "  inflating: __MACOSX/cornell movie-dialogs corpus/._chameleons.pdf  \n",
            "  inflating: cornell movie-dialogs corpus/movie_characters_metadata.txt  \n",
            "  inflating: cornell movie-dialogs corpus/movie_conversations.txt  \n",
            "  inflating: cornell movie-dialogs corpus/movie_lines.txt  \n",
            "  inflating: cornell movie-dialogs corpus/movie_titles_metadata.txt  \n",
            "  inflating: cornell movie-dialogs corpus/raw_script_urls.txt  \n",
            "  inflating: cornell movie-dialogs corpus/README.txt  \n",
            "  inflating: __MACOSX/cornell movie-dialogs corpus/._README.txt  \n"
          ],
          "name": "stdout"
        }
      ]
    },
    {
      "cell_type": "code",
      "metadata": {
        "id": "8gjhqUFYAVrd",
        "colab_type": "code",
        "colab": {}
      },
      "source": [
        "# Get movie lines only\n",
        "movie_lines = {};\n",
        "for line in open(\"./cornell movie-dialogs corpus/movie_lines.txt\", encoding=\"latin1\"):  \n",
        "  line = line.strip();\n",
        "  parts = line.split(\" +++$+++ \");\n",
        "  if len(parts) == 5:\n",
        "    movie_lines[parts[0]] = parts[4];\n",
        "  else:\n",
        "    movie_lines[parts[0]] = \"\";"
      ],
      "execution_count": 0,
      "outputs": []
    },
    {
      "cell_type": "code",
      "metadata": {
        "id": "AbNt_xWBROt_",
        "colab_type": "code",
        "colab": {}
      },
      "source": [
        "# Get lines for convo/responses\n",
        "responses = {};\n",
        "for line in open(\"./cornell movie-dialogs corpus/movie_conversations.txt\", encoding=\"latin1\"): \n",
        "  line = line.strip();\n",
        "  parts = line.split(\" +++$+++ \");\n",
        "  # print(parts[3].replace(\"'\", '\"')); \n",
        "  line_ids = json.loads(parts[3].replace(\"'\", '\"'));\n",
        "  for first, second in zip(line_ids[:-1], line_ids[1:]):\n",
        "      responses[first] = second;"
      ],
      "execution_count": 0,
      "outputs": []
    },
    {
      "cell_type": "code",
      "metadata": {
        "id": "SlfilUI2Skx8",
        "colab_type": "code",
        "colab": {
          "base_uri": "https://localhost:8080/",
          "height": 269
        },
        "outputId": "dd398970-fbfc-4b7f-d64e-6d457fc172c2"
      },
      "source": [
        "# Test if the pairs work\n",
        "for pair in random.sample(responses.items(), 5):\n",
        "  print(\"A:\", movie_lines[pair[0]]);\n",
        "  print(\"B:\", movie_lines[pair[1]]);\n",
        "  print();"
      ],
      "execution_count": 6,
      "outputs": [
        {
          "output_type": "stream",
          "text": [
            "A: You a narc?\n",
            "B: Do I look like a narc?\n",
            "\n",
            "A: I don't know.  I don't know who I am.\n",
            "B: Yeah, well, welcome to the club.\n",
            "\n",
            "A: So, what is it you do, Mister...?\n",
            "B: Cooper. Bobby Cooper. Oh you know, whatever pays best. Little bartending, used to teach tennis, played a little competition ... .\n",
            "\n",
            "A: Don't tell me what to do!\n",
            "B: Shhh!\n",
            "\n",
            "A: Where's the name sheet?\n",
            "B: Nobody's named this one yet.\n",
            "\n"
          ],
          "name": "stdout"
        }
      ]
    },
    {
      "cell_type": "markdown",
      "metadata": {
        "id": "30O92ZdwBw8J",
        "colab_type": "text"
      },
      "source": [
        "## Word/Sentence Vectors"
      ]
    },
    {
      "cell_type": "code",
      "metadata": {
        "id": "YmMNey8rZIF0",
        "colab_type": "code",
        "colab": {}
      },
      "source": [
        "# Make sentence vector (Breaks sentence into word vectors then finds average vector)\n",
        "def sentence_mean(nlp_model, s):\n",
        "  if s == \"\":\n",
        "    s = \" \";\n",
        "  doc = nlp_model(s, disable=[\"tagger\", \"parser\"]);\n",
        "  return np.mean(np.array([w.vector for w in doc]), axis=0);\n",
        "\n",
        "sentence_mean(nlp_model, \"Test\").shape;"
      ],
      "execution_count": 0,
      "outputs": []
    },
    {
      "cell_type": "code",
      "metadata": {
        "id": "FSMiz8sav4Uw",
        "colab_type": "code",
        "colab": {
          "base_uri": "https://localhost:8080/",
          "height": 1000
        },
        "outputId": "fdc39535-d144-4eea-ae1e-4da7bc82fbc2"
      },
      "source": [
        "# Make 300-dimensional simple neighbor object and add sentence vectors to database\n",
        "sno = SimpleNeighbors(300);\n",
        "for i, line_id in enumerate(random.sample(list(responses.keys()), 100000)):\n",
        "  # Show progress\n",
        "  if i % 1000 == 0:\n",
        "    print(i, line_id, movie_lines[line_id]);\n",
        "  line_text = movie_lines[line_id];\n",
        "  summary_vector = sentence_mean(nlp_model, line_text);\n",
        "  if np.any(summary_vector):\n",
        "    sno.add_one(line_id, summary_vector);\n",
        "\n",
        "sno.build();"
      ],
      "execution_count": 8,
      "outputs": [
        {
          "output_type": "stream",
          "text": [
            "0 L445249 Hello, there, Meadows![13]\n",
            "1000 L179151 One night he took us editors out to celebrate after a deadline. Eventually Dave and I were left alone and we got to talking - not like teacher and student, but like two adults.\n",
            "2000 L423409 You must be joking.\n",
            "3000 L126009 We've no proof, of course, but we rather think so, yes.\n",
            "4000 L362833 No.  No.\n",
            "5000 L348684 Come on, man, I'm starting to cramp up here.  We have the chance right here, right now, I say we go!\n",
            "6000 L198599 You're an hour and a half late.\n",
            "7000 L319830 What do you mean 'We...?'\n",
            "8000 L364255 How's it feel?\n",
            "9000 L51583 The stiff one eye?\n",
            "10000 L652498 You called the cops on us?\n",
            "11000 L220006 What the hell does this have to do with insurance?\n",
            "12000 L456839 Desperation has driven me past etiquette, all the way to frenzy.\n",
            "13000 L63428 Don't shoot me, I'm just the piano players.\n",
            "14000 L404448 I was devastated.\n",
            "15000 L170964 Oh, Mom, it's so ugly.\n",
            "16000 L165449 -- you wouldn't let me kill him when I had the chance --\n",
            "17000 L478529 So tell me what you know.\n",
            "18000 L321962 'Course they're also so rich.\n",
            "19000 L221393 You can always come see it in London.\n",
            "20000 L458214 Say, you're always razzing everything I do, but this is one time I'm in.\n",
            "21000 L157056 We always planned to use it. We got some ground up already...but we could never find enough.\n",
            "22000 L255830 Mr. Kaggs, I'm sorry.\n",
            "23000 L208895 Well, uh. She didn't say Mr. Duke. But since I know you're here with the Police Convention...\n",
            "24000 L453954 You can do anything you've a mind to... and bein' a woman, you will!  That yours?\n",
            "25000 L558680 What else could I do?\n",
            "26000 L154307 People had a choice, even if they took it for granted.  And now they don't.\n",
            "27000 L128722 \n",
            "28000 L170133 Gotta go.\n",
            "29000 L405209 What are you talking about?\n",
            "30000 L513257 Would you go see her with me? I kind of thought I might take her some flowers like that woman done you.\n",
            "31000 L635242 Naw. Naw, I don't ever go into town for that.  A man like me... A man like me can't get no woman but one he's gonna pay for... an' that ain't right... buyin' flesh.  Claudia, God rest her soul, she wouldn't have wanted me doin' nothin' like that, me bein' a father, an' all.\n",
            "32000 L47102 What you get from renting to bachelors. All night I didn't sleep ten minutes -- and I'm sure you woke up Dr. Dreyfuss.\n",
            "33000 L354769 Senora, anything it costs, I can work--\n",
            "34000 L398649 Happy?\n",
            "35000 L83380 I ain't sure I know that. Baby never laid eyes on her till she showed up here. And how'd she make it and her husband didn't? And where is he? And how she have that baby in the woods by herself? Said a whitewoman help her. Shoot. You believe that? Well, I know what kind of white that was.\n",
            "36000 L87405 Nick --\n",
            "37000 L423819 How did you know?\n",
            "38000 L586424 I don't care about money.\n",
            "39000 L536200 Stand by, sir. Miracle worker at work...\n",
            "40000 L335519 What's that?\n",
            "41000 L110549 Yes, I know, fantastic, marvellous, wonderful - remember me to Alison - and the - er - twins.\n",
            "42000 L658854 We're looking for a suspect. We've reason to believe he's still in the area.\n",
            "43000 L203678 He was going to take away all my data, equipment --\n",
            "44000 L632901 What?\n",
            "45000 L339584 I mean why the sudden voluntary visit  -- usually it takes gun- point to get you in here...\n",
            "46000 L348318 Hey, Ray, what's the name of that nightclub of yours?\n",
            "47000 L426962 Why? Because you can do it alone?\n",
            "48000 L516850 I'm a hemotologist, not a detective.\n",
            "49000 L508311 1961?  '62?  Mary Clarence, that's when many of us took final vows.  It's the last secular music we recall.\n",
            "50000 L351825 Oh, you must be the brains then. That's right, guns that fire shot . . . Make sure you bring everything from inside the gun cabinet. There will be a load of guns, that's all I want. I'll pay you when you deliver. Everything outside the cabinet you can keep; it's yours.\n",
            "51000 L555223 Why don't you just say thank you and go, go, go --\n",
            "52000 L205944 Yah?\n",
            "53000 L478422 Is it hot in here?\n",
            "54000 L100796 We're here.  Where the hell are you?\n",
            "55000 L431623 If I spill, my life won't be worth a nickel.\n",
            "56000 L556374 You bet your ass.\n",
            "57000 L575854 I knew about it. Big Dave told me about it, and the spot he was putting himself in by getting the money.\n",
            "58000 L205899 They're good, Norm, but you're better'n them.\n",
            "59000 L443463 State your case, Mr. Prosecutor.\n",
            "60000 L315829 While you were in the shower.\n",
            "61000 L14347 Because she says if I don't watch out I'll have a baby.\n",
            "62000 L488714 Please, call me Gale.\n",
            "63000 L269810 Say what?\n",
            "64000 L334813 What?\n",
            "65000 L404142 Under the circumstances.  Charmed to know you, Jules.\n",
            "66000 L771 Unwelcome?  I guess someone still has her panties in a twist.\n",
            "67000 L633176 I think you might just want to do as I say.\n",
            "68000 L82539 Imagine a room full of women. Nubile, blonde, wet with desire, Schwartz. A harem, if you will. Me in leather. A harness, if you like. I am the object of this desire, and all eyes are on me as I speak. Ladies, I begin. I am the love god, Eros. I intoxicate you. My spunk is to you manna from heaven...\n",
            "69000 L366240 Everything happens once if you live long enough.\n",
            "70000 L31011 I'm serious. You write a proper part for me with a couple of catchy songs, I'll guarantee you'll have a triumph- de-luxe. Mind you, it'll have to be in German.\n",
            "71000 L255243 But what's wrong?\n",
            "72000 L142070 Who are you, Jerry?\n",
            "73000 L267927 I guess.  You're lucky you don't have any old people around here.\n",
            "74000 L86865 GODDAMMIT, RAE!\n",
            "75000 L536102 Wake up, man, wake up!\n",
            "76000 L556278 Others?\n",
            "77000 L217918 Hello Lydia?\n",
            "78000 L495836 I miss Tommi so much.\n",
            "79000 L350157 Everything's fine, pop.\n",
            "80000 L534644 Steady... Steady, boys. Keep scanning...  I thought you people were reliable... Where the hell is he!\n",
            "81000 L308485 Julie, you said you were tired. Waybe you were dreaming.\n",
            "82000 L308513 Jeez, that's a full carat --\n",
            "83000 L214717 \"Next?\"\n",
            "84000 L148887 I can just imagine, being around so much money all the time...\n",
            "85000 L30071 No, this is serious. Say it backwards.\n",
            "86000 L458836 Whadda ya mean?\n",
            "87000 L28229 Then this will be five. I suppose you think I'm too drunk to count.\n",
            "88000 L375656 So you're a one-girl guy?\n",
            "89000 L587400 He's shy, not like Enzo.\n",
            "90000 L514627 And started to run.\n",
            "91000 L355546 Oh Christ!  Oh Christ!\n",
            "92000 L424254 No, George, we've already done that with Lonnie. The blind one last year, remember?\n",
            "93000 L234852 Not suede boots!\n",
            "94000 L503929 We've heard rumors that you're going to unveil more than just a new series tonight.  Is this true?\n",
            "95000 L587353 Assassin!\n",
            "96000 L390198 Jeez, it all looks like bad late-night cable.\n",
            "97000 L532924 Don't worry. We'll take care of it.\n",
            "98000 L401422 Just look at this tie. You could fry an egg off that orange, yow. Have you ever considered the Jerry Garcia line of ties ?\n",
            "99000 L652259 Only the best for my mother.\n"
          ],
          "name": "stdout"
        }
      ]
    },
    {
      "cell_type": "code",
      "metadata": {
        "id": "sce0umfK0cw0",
        "colab_type": "code",
        "colab": {
          "base_uri": "https://localhost:8080/",
          "height": 67
        },
        "outputId": "8d4b8a80-b2a0-4376-fd39-e1e00129f90b"
      },
      "source": [
        "# Test SNO\n",
        "me = \"Can you make me a sandwich?\";\n",
        "picked = sno.nearest(sentence_mean(nlp_model, me), 5)[0];\n",
        "response_line_id = responses[picked];\n",
        "\n",
        "print(\"Me: \", me);\n",
        "print(\"Closest line: \", movie_lines[picked]);\n",
        "print(\"AI Reponse: \", movie_lines[response_line_id]);"
      ],
      "execution_count": 9,
      "outputs": [
        {
          "output_type": "stream",
          "text": [
            "Me:  Can you make me a sandwich?\n",
            "Closest line:  Would you like a sandwich?\n",
            "AI Reponse:  No, thanks!  I want to get right to sleep.\n"
          ],
          "name": "stdout"
        }
      ]
    },
    {
      "cell_type": "markdown",
      "metadata": {
        "id": "es86FhVNELVV",
        "colab_type": "text"
      },
      "source": [
        "## Chatbot"
      ]
    },
    {
      "cell_type": "code",
      "metadata": {
        "id": "W8nhIZ2l7YCP",
        "colab_type": "code",
        "colab": {}
      },
      "source": [
        "# Build chatbot\n",
        "chatbot = SemanticSimilarityChatbot(nlp_model, 300);\n",
        "\n",
        "# Build database\n",
        "sample_n = 100000;\n",
        "for first_id, second_id in random.sample(list(responses.items()), sample_n):\n",
        "  chatbot.add_pair(movie_lines[first_id], movie_lines[second_id]);\n",
        "chatbot.build();"
      ],
      "execution_count": 0,
      "outputs": []
    },
    {
      "cell_type": "code",
      "metadata": {
        "id": "AP92-bdSD9IE",
        "colab_type": "code",
        "colab": {
          "base_uri": "https://localhost:8080/",
          "height": 34
        },
        "outputId": "17b81eea-30b2-432e-84f7-13ae451fcedc"
      },
      "source": [
        "# Test chatbot\n",
        "print(chatbot.response_for(\"Can you make me a sandwich?\"));"
      ],
      "execution_count": 11,
      "outputs": [
        {
          "output_type": "stream",
          "text": [
            "That's what I'm going to do.\n"
          ],
          "name": "stdout"
        }
      ]
    },
    {
      "cell_type": "code",
      "metadata": {
        "id": "MTA0BnFZEXXX",
        "colab_type": "code",
        "colab": {
          "base_uri": "https://localhost:8080/",
          "height": 541
        },
        "outputId": "6397c955-cfcf-4598-9632-1bce457ef3ed"
      },
      "source": [
        "# Test chatbot with more possible responses\n",
        "my_turn = \"I'm doing well\";\n",
        "\n",
        "for i in range(5, 51, 5):\n",
        "  print(\"Picking from\", i, \"possible responses\");\n",
        "  print(chatbot.response_for(my_turn, i));\n",
        "  print();"
      ],
      "execution_count": 12,
      "outputs": [
        {
          "output_type": "stream",
          "text": [
            "Picking from 5 possible responses\n",
            "Look Sean, I don't care if you have a rapport with the boy-- I don't care if you have a few laughs-- even at my expense! But don't you dare undermine what I'm trying to do here.\n",
            "\n",
            "Picking from 10 possible responses\n",
            "It'll be fine.\n",
            "\n",
            "Picking from 15 possible responses\n",
            "Stand up.\n",
            "\n",
            "Picking from 20 possible responses\n",
            "--These circumstances are mitigated. Right now. They're mitigated.\n",
            "\n",
            "Picking from 25 possible responses\n",
            "Stand up.\n",
            "\n",
            "Picking from 30 possible responses\n",
            "What about tennis?  Riding? fixing up old cars?  Bartending?\n",
            "\n",
            "Picking from 35 possible responses\n",
            "You should have enough to do in this house ... Come here and listen to this.\n",
            "\n",
            "Picking from 40 possible responses\n",
            "And you think I will permit this, my friend?\n",
            "\n",
            "Picking from 45 possible responses\n",
            "We must discover it.  The reason the murderer chose these persons.\n",
            "\n",
            "Picking from 50 possible responses\n",
            "It'll be fine.\n",
            "\n"
          ],
          "name": "stdout"
        }
      ]
    },
    {
      "cell_type": "code",
      "metadata": {
        "id": "H--OQUFAGJio",
        "colab_type": "code",
        "colab": {
          "base_uri": "https://localhost:8080/",
          "height": 34
        },
        "outputId": "9a992347-ae4c-4851-982b-1d07f2a74704"
      },
      "source": [
        "# Save chatbot\n",
        "chatbot.save(\"movielines-10k-sample\");\n",
        "\n",
        "# Load chatbot\n",
        "chatbot = SemanticSimilarityChatbot.load(\"movielines-10k-sample\", nlp_model);\n",
        "\n",
        "# Test again\n",
        "print(chatbot.response_for(\"I'm going outside\"));"
      ],
      "execution_count": 13,
      "outputs": [
        {
          "output_type": "stream",
          "text": [
            "Whatya mean?  We're going!  Tran's gonna do her right there unless--\n"
          ],
          "name": "stdout"
        }
      ]
    },
    {
      "cell_type": "markdown",
      "metadata": {
        "id": "AyNd1sBjHmq3",
        "colab_type": "text"
      },
      "source": [
        "## Make Chatbot Interactive\n"
      ]
    },
    {
      "cell_type": "code",
      "metadata": {
        "id": "Uk0OU1-pG6qH",
        "colab_type": "code",
        "colab": {}
      },
      "source": [
        "# Make area and UI for chatbot\n",
        "chatbot_html = \"\"\"\n",
        "<style type=\"text/css\">#log p { margin: 5px; font-family: sans-serif; }</style>\n",
        "<div id=\"log\"\n",
        "     style=\"box-sizing: border-box;\n",
        "            width: 600px;\n",
        "            height: 32em;\n",
        "            border: 1px grey solid;\n",
        "            padding: 2px;\n",
        "            overflow: scroll;\">\n",
        "</div>\n",
        "<input type=\"text\" id=\"typehere\" placeholder=\"type here!\"\n",
        "       style=\"box-sizing: border-box;\n",
        "              width: 600px;\n",
        "              margin-top: 5px;\">\n",
        "<script>\n",
        "function paraWithText(t) {\n",
        "    let tn = document.createTextNode(t);\n",
        "    let ptag = document.createElement('p');\n",
        "    ptag.appendChild(tn);\n",
        "    return ptag;\n",
        "}\n",
        "document.querySelector('#typehere').onchange = async function() {\n",
        "    let inputField = document.querySelector('#typehere');\n",
        "    let val = inputField.value;\n",
        "    inputField.value = \"\";\n",
        "    let resp = await getResp(val);\n",
        "    let objDiv = document.getElementById(\"log\");\n",
        "    objDiv.appendChild(paraWithText('😀: ' + val));\n",
        "    objDiv.appendChild(paraWithText('🤖: ' + resp));\n",
        "    objDiv.scrollTop = objDiv.scrollHeight;\n",
        "};\n",
        "async function colabGetResp(val) {\n",
        "    let resp = await google.colab.kernel.invokeFunction(\n",
        "        'notebook.get_response', [val], {});\n",
        "    return resp.data['application/json']['result'];\n",
        "}\n",
        "async function webGetResp(val) {\n",
        "    let resp = await fetch(\"/response.json?sentence=\" + \n",
        "        encodeURIComponent(val));\n",
        "    let data = await resp.json();\n",
        "    return data['result'];\n",
        "}\n",
        "</script>\n",
        "\"\"\""
      ],
      "execution_count": 0,
      "outputs": []
    },
    {
      "cell_type": "code",
      "metadata": {
        "id": "5Kn_EZz2IHgu",
        "colab_type": "code",
        "colab": {
          "base_uri": "https://localhost:8080/",
          "height": 490
        },
        "outputId": "27b9346e-4363-4a59-e010-571c80e76e8c"
      },
      "source": [
        "# Make display\n",
        "display(IPython.display.HTML(chatbot_html + \"<script>let getResp = colabGetResp;</script>\"));\n",
        "\n",
        "# Chatbot response\n",
        "def get_response(person):\n",
        "  resp = chatbot.response_for(person);\n",
        "  return IPython.display.JSON({\"result\":resp});\n",
        "\n",
        "# Output\n",
        "output.register_callback(\"notebook.get_response\", get_response);"
      ],
      "execution_count": 23,
      "outputs": [
        {
          "output_type": "display_data",
          "data": {
            "text/html": [
              "\n",
              "<style type=\"text/css\">#log p { margin: 5px; font-family: sans-serif; }</style>\n",
              "<div id=\"log\"\n",
              "     style=\"box-sizing: border-box;\n",
              "            width: 600px;\n",
              "            height: 32em;\n",
              "            border: 1px grey solid;\n",
              "            padding: 2px;\n",
              "            overflow: scroll;\">\n",
              "</div>\n",
              "<input type=\"text\" id=\"typehere\" placeholder=\"type here!\"\n",
              "       style=\"box-sizing: border-box;\n",
              "              width: 600px;\n",
              "              margin-top: 5px;\">\n",
              "<script>\n",
              "function paraWithText(t) {\n",
              "    let tn = document.createTextNode(t);\n",
              "    let ptag = document.createElement('p');\n",
              "    ptag.appendChild(tn);\n",
              "    return ptag;\n",
              "}\n",
              "document.querySelector('#typehere').onchange = async function() {\n",
              "    let inputField = document.querySelector('#typehere');\n",
              "    let val = inputField.value;\n",
              "    inputField.value = \"\";\n",
              "    let resp = await getResp(val);\n",
              "    let objDiv = document.getElementById(\"log\");\n",
              "    objDiv.appendChild(paraWithText('😀: ' + val));\n",
              "    objDiv.appendChild(paraWithText('🤖: ' + resp));\n",
              "    objDiv.scrollTop = objDiv.scrollHeight;\n",
              "};\n",
              "async function colabGetResp(val) {\n",
              "    let resp = await google.colab.kernel.invokeFunction(\n",
              "        'notebook.get_response', [val], {});\n",
              "    return resp.data['application/json']['result'];\n",
              "}\n",
              "async function webGetResp(val) {\n",
              "    let resp = await fetch(\"/response.json?sentence=\" + \n",
              "        encodeURIComponent(val));\n",
              "    let data = await resp.json();\n",
              "    return data['result'];\n",
              "}\n",
              "</script>\n",
              "<script>let getResp = colabGetResp;</script>"
            ],
            "text/plain": [
              "<IPython.core.display.HTML object>"
            ]
          },
          "metadata": {
            "tags": []
          }
        }
      ]
    },
    {
      "cell_type": "markdown",
      "metadata": {
        "id": "M2RdRJMEOTXZ",
        "colab_type": "text"
      },
      "source": [
        "## Alternative UI"
      ]
    },
    {
      "cell_type": "code",
      "metadata": {
        "id": "9SeS7Xs8L0KQ",
        "colab_type": "code",
        "colab": {
          "base_uri": "https://localhost:8080/",
          "height": 118
        },
        "outputId": "8733a359-4c04-48a2-e73e-f29f4d5dbd1c"
      },
      "source": [
        "# Alternative UI\n",
        "app = Flask(__name__);\n",
        "@app.route(\"/response.json\")\n",
        "\n",
        "# Chatbot response\n",
        "def response():\n",
        "  sentence = request.args[\"Sentence\"];\n",
        "  return jsonify({\"result\": chatbot.response_for(sentence)});\n",
        "@app.route(\"/\")\n",
        "\n",
        "# UI\n",
        "def home():\n",
        "  return chatbot_html + \"<script>let getResp = webGetResp;</script>\";\n",
        "app.run();"
      ],
      "execution_count": 16,
      "outputs": [
        {
          "output_type": "stream",
          "text": [
            " * Serving Flask app \"__main__\" (lazy loading)\n",
            " * Environment: production\n",
            "\u001b[31m   WARNING: This is a development server. Do not use it in a production deployment.\u001b[0m\n",
            "\u001b[2m   Use a production WSGI server instead.\u001b[0m\n",
            " * Debug mode: off\n"
          ],
          "name": "stdout"
        },
        {
          "output_type": "stream",
          "text": [
            " * Running on http://127.0.0.1:5000/ (Press CTRL+C to quit)\n"
          ],
          "name": "stderr"
        }
      ]
    }
  ]
}